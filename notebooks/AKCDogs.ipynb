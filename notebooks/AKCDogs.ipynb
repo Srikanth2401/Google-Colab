{
 "cells": [
  {
   "cell_type": "markdown",
   "metadata": {},
   "source": [
    "### Scraping data relating to different breeds of dogs from American Kennel Club website "
   ]
  },
  {
   "cell_type": "code",
   "execution_count": 1,
   "metadata": {
    "collapsed": true
   },
   "outputs": [],
   "source": [
    "from urllib.request import Request, urlopen\n",
    "import requests\n",
    "from bs4 import BeautifulSoup\n",
    "import csv"
   ]
  },
  {
   "cell_type": "markdown",
   "metadata": {},
   "source": [
    "### Getting url of individual pages for each breed"
   ]
  },
  {
   "cell_type": "code",
   "execution_count": 2,
   "metadata": {
    "collapsed": true
   },
   "outputs": [],
   "source": [
    "mainsite = \"http://www.akc.org/content/news/articles/most-popular-dog-breeds-full-ranking-list/?button\"\n",
    "hdr = {'User-Agent': 'Mozilla/5.0'}\n",
    "page = requests.get(mainsite)\n",
    "mainsoup = BeautifulSoup(page.text, \"html.parser\")\n",
    "#print(mainsoup.prettify())"
   ]
  },
  {
   "cell_type": "code",
   "execution_count": 3,
   "metadata": {
    "collapsed": true
   },
   "outputs": [],
   "source": [
    "allurl = mainsoup.find_all('td')\n",
    "#allurl"
   ]
  },
  {
   "cell_type": "code",
   "execution_count": 4,
   "metadata": {},
   "outputs": [
    {
     "data": {
      "text/plain": [
       "bs4.element.ResultSet"
      ]
     },
     "execution_count": 4,
     "metadata": {},
     "output_type": "execute_result"
    }
   ],
   "source": [
    "type(allurl)"
   ]
  },
  {
   "cell_type": "code",
   "execution_count": 5,
   "metadata": {
    "scrolled": true
   },
   "outputs": [
    {
     "data": {
      "text/plain": [
       "'http://www.akc.org/dog-breeds/labrador-retriever/'"
      ]
     },
     "execution_count": 5,
     "metadata": {},
     "output_type": "execute_result"
    }
   ],
   "source": [
    "allurl[0].a['href']"
   ]
  },
  {
   "cell_type": "code",
   "execution_count": 6,
   "metadata": {},
   "outputs": [
    {
     "data": {
      "text/plain": [
       "'http://www.akc.org/dog-breeds/german-shepherd-dog/'"
      ]
     },
     "execution_count": 6,
     "metadata": {},
     "output_type": "execute_result"
    }
   ],
   "source": [
    "allurl[5].a['href']"
   ]
  },
  {
   "cell_type": "code",
   "execution_count": 7,
   "metadata": {},
   "outputs": [
    {
     "data": {
      "text/plain": [
       "945"
      ]
     },
     "execution_count": 7,
     "metadata": {},
     "output_type": "execute_result"
    }
   ],
   "source": [
    "len(allurl)"
   ]
  },
  {
   "cell_type": "code",
   "execution_count": 8,
   "metadata": {},
   "outputs": [
    {
     "data": {
      "text/plain": [
       "'http://www.akc.org/dog-breeds/american-foxhound/'"
      ]
     },
     "execution_count": 8,
     "metadata": {},
     "output_type": "execute_result"
    }
   ],
   "source": [
    "allurl[940].a['href']"
   ]
  },
  {
   "cell_type": "code",
   "execution_count": 9,
   "metadata": {},
   "outputs": [
    {
     "data": {
      "text/plain": [
       "188.0"
      ]
     },
     "execution_count": 9,
     "metadata": {},
     "output_type": "execute_result"
    }
   ],
   "source": [
    "940/5"
   ]
  },
  {
   "cell_type": "code",
   "execution_count": 10,
   "metadata": {},
   "outputs": [
    {
     "name": "stdout",
     "output_type": "stream",
     "text": [
      "Retrievers (Labrador)\n",
      "German Shepherd Dogs\n",
      "Retrievers (Golden)\n",
      "Bulldogs\n",
      "Beagles\n"
     ]
    }
   ],
   "source": [
    "for i in range(0, 5):\n",
    "#for i in range(0, 189):\n",
    "    print(allurl[5*i].text.strip())"
   ]
  },
  {
   "cell_type": "code",
   "execution_count": 11,
   "metadata": {},
   "outputs": [
    {
     "name": "stdout",
     "output_type": "stream",
     "text": [
      "http://www.akc.org/dog-breeds/labrador-retriever/\n",
      "http://www.akc.org/dog-breeds/german-shepherd-dog/\n",
      "http://www.akc.org/dog-breeds/golden-retriever/\n",
      "http://www.akc.org/dog-breeds/bulldog/\n",
      "http://www.akc.org/dog-breeds/beagle/\n"
     ]
    }
   ],
   "source": [
    "for i in range(0, 5):\n",
    "#for i in range(0, 189):\n",
    "    print(allurl[5*i].a['href'])"
   ]
  },
  {
   "cell_type": "code",
   "execution_count": 12,
   "metadata": {
    "collapsed": true
   },
   "outputs": [],
   "source": [
    "name_db = []\n",
    "url_db = []\n",
    "for i in range(0, 189):\n",
    "    name = allurl[5*i].text.strip()\n",
    "    url = allurl[5*i].a['href']\n",
    "    name_db.append(name)\n",
    "    url_db.append(url)"
   ]
  },
  {
   "cell_type": "code",
   "execution_count": 13,
   "metadata": {},
   "outputs": [
    {
     "data": {
      "text/plain": [
       "['Retrievers (Labrador)',\n",
       " 'German Shepherd Dogs',\n",
       " 'Retrievers (Golden)',\n",
       " 'Bulldogs',\n",
       " 'Beagles',\n",
       " 'French Bulldogs',\n",
       " 'Poodles',\n",
       " 'Rottweilers',\n",
       " 'Yorkshire Terriers',\n",
       " 'Boxers',\n",
       " 'Pointers (German Shorthaired)',\n",
       " 'Siberian Huskies',\n",
       " 'Dachshunds',\n",
       " 'Great Danes',\n",
       " 'Doberman Pinschers',\n",
       " 'Australian Shepherds',\n",
       " 'Miniature Schnauzers',\n",
       " 'Pembroke Welsh Corgis',\n",
       " 'Cavalier King Charles Spaniels',\n",
       " 'Shih Tzu',\n",
       " 'Boston Terriers',\n",
       " 'Pomeranians',\n",
       " 'Havanese',\n",
       " 'Shetland Sheepdogs',\n",
       " 'Brittanys',\n",
       " 'Spaniels (English Springer)',\n",
       " 'Bernese Mountain Dogs',\n",
       " 'Mastiffs',\n",
       " 'Spaniels (Cocker)',\n",
       " 'Chihuahuas',\n",
       " 'Vizslas',\n",
       " 'Pugs',\n",
       " 'Maltese',\n",
       " 'Weimaraners',\n",
       " 'Newfoundlands',\n",
       " 'Miniature\\xa0American\\xa0Shepherds',\n",
       " 'Collies',\n",
       " 'Border Collies',\n",
       " 'Basset Hounds',\n",
       " 'Cane Corso',\n",
       " 'West Highland White Terriers',\n",
       " 'Rhodesian Ridgebacks',\n",
       " 'Retrievers (Chesapeake Bay)',\n",
       " 'Shiba Inu',\n",
       " 'Bichons Frises',\n",
       " 'Akitas',\n",
       " 'Belgian Malinois',\n",
       " 'Bullmastiffs',\n",
       " 'St. Bernards',\n",
       " 'Soft Coated Wheaten Terriers',\n",
       " 'Portuguese Water Dogs',\n",
       " 'Bloodhounds',\n",
       " 'Papillons',\n",
       " 'Australian Cattle Dogs',\n",
       " 'Airedale Terriers',\n",
       " 'Spaniels (English Cocker)',\n",
       " 'Bull Terriers',\n",
       " 'Scottish Terriers',\n",
       " 'Alaskan Malamutes',\n",
       " 'Whippets',\n",
       " 'Chinese Shar-Pei',\n",
       " 'Dalmatians',\n",
       " 'Dogues de Bordeaux',\n",
       " 'Pointers (German Wirehaired)',\n",
       " 'Samoyeds',\n",
       " 'Wirehaired Pointing Griffons',\n",
       " 'Great Pyrenees',\n",
       " 'Miniature Pinschers',\n",
       " 'Cardigan Welsh Corgis',\n",
       " 'Cairn Terriers',\n",
       " 'Lhasa Apsos',\n",
       " 'Italian Greyhounds',\n",
       " 'Irish Wolfhounds',\n",
       " 'Chow Chows',\n",
       " 'Old English Sheepdogs',\n",
       " 'Setters (Irish)',\n",
       " 'Chinese Crested',\n",
       " 'Greater Swiss Mountain Dogs',\n",
       " 'Giant Schnauzers',\n",
       " 'Coton de Tulear',\n",
       " 'American Staffordshire Terriers',\n",
       " 'Staffordshire Bull Terriers',\n",
       " 'Bouviers des Flandres',\n",
       " 'Anatolian Shepherd Dogs',\n",
       " 'Standard Schnauzers',\n",
       " 'Border Terriers',\n",
       " 'Retrievers (Nova Scotia Duck Tolling)',\n",
       " 'Basenjis',\n",
       " 'Retrievers (Flat-Coated)',\n",
       " 'Russell Terriers',\n",
       " 'Tibetan Terriers',\n",
       " 'Keeshonden',\n",
       " 'Pekingese',\n",
       " 'Norwegian Elkhounds',\n",
       " 'Leonbergers',\n",
       " 'Rat Terriers',\n",
       " 'Brussels Griffons',\n",
       " 'Borzois',\n",
       " 'Neapolitan Mastiffs',\n",
       " 'Silky Terriers',\n",
       " 'Fox Terriers (Wire)',\n",
       " 'Setters (English)',\n",
       " 'Norwich Terriers',\n",
       " 'Setters (Gordon)',\n",
       " 'Spinoni Italiani',\n",
       " 'American\\xa0Hairless\\xa0Terriers',\n",
       " 'Belgian Tervuren',\n",
       " 'Japanese Chin',\n",
       " 'Parson Russell Terriers',\n",
       " 'Spaniels (Boykin)',\n",
       " 'Welsh Terriers',\n",
       " 'Schipperkes',\n",
       " 'Afghan Hounds',\n",
       " 'Lagotti\\xa0Romagnoli',\n",
       " 'Irish Terriers',\n",
       " 'Toy Fox Terriers',\n",
       " 'Pointers',\n",
       " 'Tibetan Spaniels',\n",
       " 'Black Russian Terriers',\n",
       " 'Miniature Bull Terriers',\n",
       " 'Bluetick Coonhounds',\n",
       " 'American Eskimo Dogs',\n",
       " 'Spaniels (Welsh Springer)',\n",
       " 'Fox Terriers (Smooth)',\n",
       " 'Salukis',\n",
       " 'Bearded Collies',\n",
       " 'Kerry Blue Terriers',\n",
       " 'Black and Tan Coonhounds',\n",
       " 'Belgian Sheepdogs',\n",
       " 'English Toy Spaniels',\n",
       " 'Boerboels',\n",
       " 'Briards',\n",
       " 'Manchester Terriers',\n",
       " 'Norfolk Terriers',\n",
       " 'Tibetan Mastiffs',\n",
       " 'Australian Terriers',\n",
       " 'Treeing Walker Coonhounds',\n",
       " 'Bedlington Terriers',\n",
       " 'Xoloitzcuintli',\n",
       " 'Beaucerons',\n",
       " 'Berger\\xa0Picards',\n",
       " 'Setters (Irish Red and White)',\n",
       " 'Redbone Coonhounds',\n",
       " 'Spaniels (Clumber)',\n",
       " 'Lakeland Terriers',\n",
       " 'German Pinschers',\n",
       " 'Spaniels (Field)',\n",
       " 'Petits Bassets Griffons Vendeens',\n",
       " 'Affenpinschers',\n",
       " 'Spaniels (Irish Water)',\n",
       " 'Greyhounds',\n",
       " 'Ibizan Hounds',\n",
       " 'Icelandic Sheepdogs',\n",
       " 'Scottish Deerhounds',\n",
       " 'Sealyham Terriers',\n",
       " 'Spaniels (American Water)',\n",
       " 'Wirehaired Vizslas',\n",
       " 'Plotts',\n",
       " 'Pulik',\n",
       " 'Portuguese Podengo Pequenos',\n",
       " 'Entlebucher Mountain Dogs',\n",
       " 'Spanish Water Dogs',\n",
       " 'Swedish Vallhunds',\n",
       " 'Retrievers (Curly-Coated)',\n",
       " 'Kuvaszok',\n",
       " 'Otterhounds',\n",
       " 'Dandie Dinmont Terriers',\n",
       " 'Pharaoh Hounds',\n",
       " 'Polish Lowland Sheepdogs',\n",
       " 'American English Coonhounds',\n",
       " 'Lowchen',\n",
       " 'Spaniels (Sussex)',\n",
       " 'Finnish Lapphunds',\n",
       " 'Norwegian Buhunds',\n",
       " 'Chinooks',\n",
       " 'Pyrenean Shepherds',\n",
       " 'Komondorok',\n",
       " 'Skye Terriers',\n",
       " 'Finnish Spitz',\n",
       " 'Glen of Imaal Terriers',\n",
       " 'Canaan Dogs',\n",
       " 'Cesky Terriers',\n",
       " \"Cirnechi dell'Etna\",\n",
       " 'Bergamasco',\n",
       " 'Sloughis',\n",
       " 'Harriers',\n",
       " 'English Foxhounds',\n",
       " 'Norwegian Lundehunds',\n",
       " 'American Foxhounds']"
      ]
     },
     "execution_count": 13,
     "metadata": {},
     "output_type": "execute_result"
    }
   ],
   "source": [
    "name_db"
   ]
  },
  {
   "cell_type": "markdown",
   "metadata": {},
   "source": [
    "### Scraping data of a particular breed"
   ]
  },
  {
   "cell_type": "code",
   "execution_count": 14,
   "metadata": {},
   "outputs": [],
   "source": [
    "site = \"http://www.akc.org/dog-breeds/havanese/\"\n",
    "hdr = {'User-Agent': 'Mozilla/5.0'}\n",
    "bookpage = requests.get(site)\n",
    "soup = BeautifulSoup(bookpage.text, \"html.parser\")\n",
    "#print(soup.prettify())"
   ]
  },
  {
   "cell_type": "code",
   "execution_count": 15,
   "metadata": {
    "scrolled": true
   },
   "outputs": [
    {
     "data": {
      "text/plain": [
       "[<span class=\"item\">Funny</span>,\n",
       " <span class=\"item\">Intelligent</span>,\n",
       " <span class=\"item\">Outgoing</span>]"
      ]
     },
     "execution_count": 15,
     "metadata": {},
     "output_type": "execute_result"
    }
   ],
   "source": [
    "soup.find_all('span', class_ = \"item\")"
   ]
  },
  {
   "cell_type": "code",
   "execution_count": 16,
   "metadata": {
    "scrolled": true
   },
   "outputs": [
    {
     "data": {
      "text/plain": [
       "'Intelligent'"
      ]
     },
     "execution_count": 16,
     "metadata": {},
     "output_type": "execute_result"
    }
   ],
   "source": [
    "soup.find_all('span', class_ = \"item\")[1].get_text()"
   ]
  },
  {
   "cell_type": "code",
   "execution_count": 17,
   "metadata": {},
   "outputs": [
    {
     "data": {
      "text/plain": [
       "'Toy Group'"
      ]
     },
     "execution_count": 17,
     "metadata": {},
     "output_type": "execute_result"
    }
   ],
   "source": [
    "soup.find('span', class_ = \"title\").get_text()"
   ]
  },
  {
   "cell_type": "code",
   "execution_count": 18,
   "metadata": {
    "scrolled": true
   },
   "outputs": [
    {
     "data": {
      "text/plain": [
       "'medium\\n                             ENERGY'"
      ]
     },
     "execution_count": 18,
     "metadata": {},
     "output_type": "execute_result"
    }
   ],
   "source": [
    "soup.find('span', class_ = \"energy_levels\").get_text().strip()"
   ]
  },
  {
   "cell_type": "code",
   "execution_count": 19,
   "metadata": {},
   "outputs": [
    {
     "data": {
      "text/plain": [
       "'small\\n                             size'"
      ]
     },
     "execution_count": 19,
     "metadata": {},
     "output_type": "execute_result"
    }
   ],
   "source": [
    "soup.find('span', class_ = \"size\").get_text().strip()"
   ]
  },
  {
   "cell_type": "code",
   "execution_count": 20,
   "metadata": {},
   "outputs": [
    {
     "data": {
      "text/plain": [
       "'23rd'"
      ]
     },
     "execution_count": 20,
     "metadata": {},
     "output_type": "execute_result"
    }
   ],
   "source": [
    "soup.find('div', class_ = \"bigrank\").get_text().strip()"
   ]
  },
  {
   "cell_type": "code",
   "execution_count": 21,
   "metadata": {},
   "outputs": [
    {
     "data": {
      "text/plain": [
       "<div class=\"breed-details__main\">\n",
       "<ul>\n",
       "<li><strong>Personality:</strong> Outgoing, funny, intelligent</li>\n",
       "<li><strong>Energy Level:</strong> Somewhat Active; Curious, sociable dogs, Havanese enjoy a good romp but have no special exercise needs</li>\n",
       "<li><strong>Good with Children: </strong>Yes</li>\n",
       "<li><strong>Good with other Dogs:</strong> With Supervision</li>\n",
       "<li><strong>Shedding:</strong> Infrequent</li>\n",
       "<li><strong>Grooming:</strong> Weekly</li>\n",
       "<li><strong>Trainability:</strong> Eager To Please</li>\n",
       "<li><strong>Height: </strong>8.5-11.5 inches</li>\n",
       "<li><strong>Weight: </strong>7-13 pounds</li>\n",
       "<li><strong>Life Expectancy: </strong>14-16 years</li>\n",
       "<li><strong>Barking Level:</strong> Barks When Necessary</li>\n",
       "</ul>\n",
       "</div>"
      ]
     },
     "execution_count": 21,
     "metadata": {},
     "output_type": "execute_result"
    }
   ],
   "source": [
    "j = soup.find('div', class_ = \"breed-details__main\")\n",
    "j"
   ]
  },
  {
   "cell_type": "code",
   "execution_count": 22,
   "metadata": {},
   "outputs": [
    {
     "data": {
      "text/plain": [
       "'Good with Children:\\xa0Yes'"
      ]
     },
     "execution_count": 22,
     "metadata": {},
     "output_type": "execute_result"
    }
   ],
   "source": [
    "j(\"li\")[2].get_text().strip()"
   ]
  },
  {
   "cell_type": "code",
   "execution_count": 23,
   "metadata": {},
   "outputs": [
    {
     "data": {
      "text/plain": [
       "'Good with other Dogs:\\xa0With Supervision'"
      ]
     },
     "execution_count": 23,
     "metadata": {},
     "output_type": "execute_result"
    }
   ],
   "source": [
    "j(\"li\")[3].get_text().strip()"
   ]
  },
  {
   "cell_type": "code",
   "execution_count": 24,
   "metadata": {},
   "outputs": [
    {
     "data": {
      "text/plain": [
       "'Barking Level:\\xa0Barks When Necessary'"
      ]
     },
     "execution_count": 24,
     "metadata": {},
     "output_type": "execute_result"
    }
   ],
   "source": [
    "j(\"li\")[10].get_text().strip()"
   ]
  },
  {
   "cell_type": "code",
   "execution_count": 25,
   "metadata": {
    "collapsed": true
   },
   "outputs": [],
   "source": [
    "site = \"http://www.akc.org/dog-breeds/labrador-retriever/\"\n",
    "hdr = {'User-Agent': 'Mozilla/5.0'}\n",
    "bookpage = requests.get(site)\n",
    "soup = BeautifulSoup(bookpage.text, \"html.parser\")"
   ]
  },
  {
   "cell_type": "code",
   "execution_count": 26,
   "metadata": {},
   "outputs": [
    {
     "data": {
      "text/plain": [
       "<div class=\"breed-details__main\">\n",
       "<p><strong>Personality:</strong> Friendly and outgoing, Labs play well with others<br/>\n",
       "<strong>Energy Level:</strong> Very Active; Labs are high-spirited and not afraid to show it<br/>\n",
       "<strong>Good with Children:</strong> Yes<br/>\n",
       "<strong>Good with other Dogs:</strong> With Supervision<br/>\n",
       "<strong>Shedding: </strong>Seasonal<br/>\n",
       "<strong>Grooming:</strong> Occasional<br/>\n",
       "<strong>Trainability: </strong>Eager To Please<br/>\n",
       "<strong>Height: </strong>22.5-24.5 inches (male), 21.5-23.5 inches (female)<br/>\n",
       "<strong>Weight:</strong> 65-80 pounds (male), 55-70 pounds (female)<br/>\n",
       "<strong>Life Expectancy:</strong> 10-12 years<br/>\n",
       "<strong>Barking Level: </strong>Barks When Necessary</p>\n",
       "</div>"
      ]
     },
     "execution_count": 26,
     "metadata": {},
     "output_type": "execute_result"
    }
   ],
   "source": [
    "j = soup.find('div', class_ = \"breed-details__main\")\n",
    "j"
   ]
  },
  {
   "cell_type": "code",
   "execution_count": 27,
   "metadata": {},
   "outputs": [
    {
     "data": {
      "text/plain": [
       "3"
      ]
     },
     "execution_count": 27,
     "metadata": {},
     "output_type": "execute_result"
    }
   ],
   "source": [
    "len(j)"
   ]
  },
  {
   "cell_type": "markdown",
   "metadata": {},
   "source": [
    "### Putting all together"
   ]
  },
  {
   "cell_type": "code",
   "execution_count": 28,
   "metadata": {
    "collapsed": true
   },
   "outputs": [],
   "source": [
    "import time"
   ]
  },
  {
   "cell_type": "code",
   "execution_count": 29,
   "metadata": {},
   "outputs": [
    {
     "name": "stdout",
     "output_type": "stream",
     "text": [
      "0\n",
      "1\n",
      "2\n",
      "3\n",
      "4\n",
      "5\n",
      "6\n",
      "7\n",
      "8\n",
      "9\n",
      "10\n"
     ]
    }
   ],
   "source": [
    "data = []\n",
    "##testing ten pages\n",
    "for count in range(0,11):\n",
    "##comment the above and uncomment the below to run all pages\n",
    "#for count in range(0,189):\n",
    "    hdr = {'User-Agent': 'Mozilla/5.0'}\n",
    "    page = requests.get(url_db[count])\n",
    "    soup = BeautifulSoup(page.text, \"html.parser\")\n",
    "    #print(soup.prettify())\n",
    "    name = name_db[count]\n",
    "    try:\n",
    "        grp = soup.find('span', class_ = \"title\").get_text()\n",
    "    except: \n",
    "        grp = \"NA\"\n",
    "    try:\n",
    "        trait1 = soup.find_all('span', class_ = \"item\")[0].get_text()\n",
    "    except: \n",
    "        trait1 = \"NA\"\n",
    "    try:\n",
    "        trait2 = soup.find_all('span', class_ = \"item\")[1].get_text()\n",
    "    except:\n",
    "        trait2 = \"NA\"\n",
    "    try:\n",
    "        trait3 = soup.find_all('span', class_ = \"item\")[2].get_text()\n",
    "    except:\n",
    "        trait3 = \"NA\"\n",
    "    try:\n",
    "        energy = soup.find('span', class_ = \"energy_levels\").get_text().strip()\n",
    "    except:\n",
    "        energy = \"NA\"\n",
    "    try:\n",
    "        size = soup.find('span', class_ = \"size\").get_text().strip()\n",
    "    except:\n",
    "        size = \"NA\"\n",
    "    try:\n",
    "        rank = soup.find('div', class_ = \"bigrank\").get_text().strip()\n",
    "    except:\n",
    "        rank = \"NA\"\n",
    "    j = soup.find('div', class_ = \"breed-details__main\")\n",
    "    try: \n",
    "        children = j(\"li\")[2].get_text().strip()\n",
    "    except:\n",
    "        children = \"NA\"\n",
    "    try:\n",
    "        otherdogs = j(\"li\")[3].get_text().strip()\n",
    "    except:\n",
    "        otherdogs = \"NA\"\n",
    "    try:\n",
    "        shedding = j(\"li\")[4].get_text().strip()\n",
    "    except:\n",
    "        shedding = \"NA\"\n",
    "    try:\n",
    "        grooming = j(\"li\")[5].get_text().strip()\n",
    "    except:\n",
    "        grooming = \"NA\"\n",
    "    try:\n",
    "        trainability = j(\"li\")[6].get_text().strip()\n",
    "    except:\n",
    "        trainability = \"NA\"\n",
    "    try:\n",
    "        height = j(\"li\")[7].get_text().strip()\n",
    "    except:\n",
    "        height = \"NA\"\n",
    "    try:\n",
    "        weight = j(\"li\")[8].get_text().strip()\n",
    "    except:\n",
    "        weight = \"NA\"\n",
    "    try:\n",
    "        life = j(\"li\")[9].get_text().strip()\n",
    "    except:\n",
    "        life = \"NA\"\n",
    "    try:\n",
    "        barking = j(\"li\")[10].get_text().strip()\n",
    "    except:\n",
    "        barking = \"NA\"\n",
    "    if(barking == \"NA\"):\n",
    "        j = str(j) \n",
    "    else:\n",
    "        j = \"\"\n",
    "    data.append((name,grp,trait1,trait2,trait3,energy,size,rank,children,otherdogs,shedding,grooming,trainability,\n",
    "                height,weight,life,barking,j))    \n",
    "    print(count)\n",
    "    time.sleep(1)"
   ]
  },
  {
   "cell_type": "code",
   "execution_count": 30,
   "metadata": {
    "collapsed": true
   },
   "outputs": [],
   "source": [
    "#data"
   ]
  },
  {
   "cell_type": "code",
   "execution_count": 31,
   "metadata": {
    "collapsed": true
   },
   "outputs": [],
   "source": [
    "import pandas as pd\n",
    "import numpy as np\n",
    "df = pd.DataFrame(np.array(data))"
   ]
  },
  {
   "cell_type": "code",
   "execution_count": 32,
   "metadata": {
    "collapsed": true
   },
   "outputs": [],
   "source": [
    "df.columns = ['name','grp','trait1','trait2','trait3','energy','size','rank','children','otherdogs','shedding','grooming','trainability',\n",
    "                'height','weight','life','barking','remarks']"
   ]
  },
  {
   "cell_type": "code",
   "execution_count": 33,
   "metadata": {},
   "outputs": [
    {
     "data": {
      "text/html": [
       "<div>\n",
       "<style>\n",
       "    .dataframe thead tr:only-child th {\n",
       "        text-align: right;\n",
       "    }\n",
       "\n",
       "    .dataframe thead th {\n",
       "        text-align: left;\n",
       "    }\n",
       "\n",
       "    .dataframe tbody tr th {\n",
       "        vertical-align: top;\n",
       "    }\n",
       "</style>\n",
       "<table border=\"1\" class=\"dataframe\">\n",
       "  <thead>\n",
       "    <tr style=\"text-align: right;\">\n",
       "      <th></th>\n",
       "      <th>name</th>\n",
       "      <th>grp</th>\n",
       "      <th>trait1</th>\n",
       "      <th>trait2</th>\n",
       "      <th>trait3</th>\n",
       "      <th>energy</th>\n",
       "      <th>size</th>\n",
       "      <th>rank</th>\n",
       "      <th>children</th>\n",
       "      <th>otherdogs</th>\n",
       "      <th>shedding</th>\n",
       "      <th>grooming</th>\n",
       "      <th>trainability</th>\n",
       "      <th>height</th>\n",
       "      <th>weight</th>\n",
       "      <th>life</th>\n",
       "      <th>barking</th>\n",
       "      <th>remarks</th>\n",
       "    </tr>\n",
       "  </thead>\n",
       "  <tbody>\n",
       "    <tr>\n",
       "      <th>0</th>\n",
       "      <td>Retrievers (Labrador)</td>\n",
       "      <td>Sporting Group</td>\n",
       "      <td>Active</td>\n",
       "      <td>Friendly</td>\n",
       "      <td>Outgoing</td>\n",
       "      <td>high\\n                             ENERGY</td>\n",
       "      <td>medium\\n                             size</td>\n",
       "      <td>1st</td>\n",
       "      <td>NA</td>\n",
       "      <td>NA</td>\n",
       "      <td>NA</td>\n",
       "      <td>NA</td>\n",
       "      <td>NA</td>\n",
       "      <td>NA</td>\n",
       "      <td>NA</td>\n",
       "      <td>NA</td>\n",
       "      <td>NA</td>\n",
       "      <td>&lt;div class=\"breed-details__main\"&gt;\\n&lt;p&gt;&lt;strong&gt;...</td>\n",
       "    </tr>\n",
       "    <tr>\n",
       "      <th>1</th>\n",
       "      <td>German Shepherd Dogs</td>\n",
       "      <td>Herding Group</td>\n",
       "      <td>Confident</td>\n",
       "      <td>Courageous</td>\n",
       "      <td>Smart</td>\n",
       "      <td>medium\\n                             ENERGY</td>\n",
       "      <td>large\\n                             size</td>\n",
       "      <td>2nd</td>\n",
       "      <td>Good with Children: Yes</td>\n",
       "      <td>Good with other Dogs: With Supervision</td>\n",
       "      <td>Shedding: Frequent</td>\n",
       "      <td>Grooming: Occasional</td>\n",
       "      <td>Trainability: Eager To Please</td>\n",
       "      <td>Height: 24-26 inches (male), 22-24 inches (fem...</td>\n",
       "      <td>Weight: 65-90 pounds (male), 50-70 pounds (fem...</td>\n",
       "      <td>Life Expectancy: 7-10 years</td>\n",
       "      <td>Barking Level: Barks When Necessary</td>\n",
       "      <td></td>\n",
       "    </tr>\n",
       "    <tr>\n",
       "      <th>2</th>\n",
       "      <td>Retrievers (Golden)</td>\n",
       "      <td>Sporting Group</td>\n",
       "      <td>Devoted</td>\n",
       "      <td>Friendly</td>\n",
       "      <td>Intelligent</td>\n",
       "      <td>medium\\n                             ENERGY</td>\n",
       "      <td>large\\n                             size</td>\n",
       "      <td>3rd</td>\n",
       "      <td>NA</td>\n",
       "      <td>NA</td>\n",
       "      <td>NA</td>\n",
       "      <td>NA</td>\n",
       "      <td>NA</td>\n",
       "      <td>NA</td>\n",
       "      <td>NA</td>\n",
       "      <td>NA</td>\n",
       "      <td>NA</td>\n",
       "      <td>&lt;div class=\"breed-details__main\"&gt;\\n&lt;p&gt;&lt;strong&gt;...</td>\n",
       "    </tr>\n",
       "    <tr>\n",
       "      <th>3</th>\n",
       "      <td>Bulldogs</td>\n",
       "      <td>Non Sporting Group</td>\n",
       "      <td>Calm</td>\n",
       "      <td>Courageous</td>\n",
       "      <td>Friendly</td>\n",
       "      <td>medium\\n                             ENERGY</td>\n",
       "      <td>medium\\n                             size</td>\n",
       "      <td>4th</td>\n",
       "      <td>Good with Children: Yes</td>\n",
       "      <td>Good with other Dogs: Yes</td>\n",
       "      <td>Shedding: Seasonal</td>\n",
       "      <td>Grooming: Weekly</td>\n",
       "      <td>Trainability: Responds Well</td>\n",
       "      <td>Height: 14-15 inches</td>\n",
       "      <td>Weight: 50 pounds (male), 40 pounds (female)</td>\n",
       "      <td>Life Expectancy: 8-10 years</td>\n",
       "      <td>Barking Level: Quiet</td>\n",
       "      <td></td>\n",
       "    </tr>\n",
       "    <tr>\n",
       "      <th>4</th>\n",
       "      <td>Beagles</td>\n",
       "      <td>Hound Group</td>\n",
       "      <td>Curious</td>\n",
       "      <td>Friendly</td>\n",
       "      <td>Merry</td>\n",
       "      <td>medium\\n                             ENERGY</td>\n",
       "      <td>small\\n                             size</td>\n",
       "      <td>5th</td>\n",
       "      <td>Good with Children: Yes</td>\n",
       "      <td>Good with other Dogs: Yes</td>\n",
       "      <td>Shedding: Seasonal</td>\n",
       "      <td>Grooming: Weekly</td>\n",
       "      <td>Trainability: Responds Well</td>\n",
       "      <td>Height: 13 inches &amp; under, 13-15 inches</td>\n",
       "      <td>Weight: under 20 pounds (13 inches &amp; under), 2...</td>\n",
       "      <td>Life Expectancy: 10-15 years</td>\n",
       "      <td>Barking Level: Likes To Be Vocal</td>\n",
       "      <td></td>\n",
       "    </tr>\n",
       "  </tbody>\n",
       "</table>\n",
       "</div>"
      ],
      "text/plain": [
       "                    name                 grp     trait1      trait2  \\\n",
       "0  Retrievers (Labrador)      Sporting Group     Active    Friendly   \n",
       "1   German Shepherd Dogs       Herding Group  Confident  Courageous   \n",
       "2    Retrievers (Golden)      Sporting Group    Devoted    Friendly   \n",
       "3               Bulldogs  Non Sporting Group       Calm  Courageous   \n",
       "4                Beagles         Hound Group    Curious    Friendly   \n",
       "\n",
       "        trait3                                       energy  \\\n",
       "0     Outgoing    high\\n                             ENERGY   \n",
       "1        Smart  medium\\n                             ENERGY   \n",
       "2  Intelligent  medium\\n                             ENERGY   \n",
       "3     Friendly  medium\\n                             ENERGY   \n",
       "4        Merry  medium\\n                             ENERGY   \n",
       "\n",
       "                                        size rank                 children  \\\n",
       "0  medium\\n                             size  1st                       NA   \n",
       "1   large\\n                             size  2nd  Good with Children: Yes   \n",
       "2   large\\n                             size  3rd                       NA   \n",
       "3  medium\\n                             size  4th  Good with Children: Yes   \n",
       "4   small\\n                             size  5th  Good with Children: Yes   \n",
       "\n",
       "                                otherdogs            shedding  \\\n",
       "0                                      NA                  NA   \n",
       "1  Good with other Dogs: With Supervision  Shedding: Frequent   \n",
       "2                                      NA                  NA   \n",
       "3               Good with other Dogs: Yes  Shedding: Seasonal   \n",
       "4               Good with other Dogs: Yes  Shedding: Seasonal   \n",
       "\n",
       "               grooming                   trainability  \\\n",
       "0                    NA                             NA   \n",
       "1  Grooming: Occasional  Trainability: Eager To Please   \n",
       "2                    NA                             NA   \n",
       "3      Grooming: Weekly    Trainability: Responds Well   \n",
       "4      Grooming: Weekly    Trainability: Responds Well   \n",
       "\n",
       "                                              height  \\\n",
       "0                                                 NA   \n",
       "1  Height: 24-26 inches (male), 22-24 inches (fem...   \n",
       "2                                                 NA   \n",
       "3                               Height: 14-15 inches   \n",
       "4            Height: 13 inches & under, 13-15 inches   \n",
       "\n",
       "                                              weight  \\\n",
       "0                                                 NA   \n",
       "1  Weight: 65-90 pounds (male), 50-70 pounds (fem...   \n",
       "2                                                 NA   \n",
       "3       Weight: 50 pounds (male), 40 pounds (female)   \n",
       "4  Weight: under 20 pounds (13 inches & under), 2...   \n",
       "\n",
       "                           life                              barking  \\\n",
       "0                            NA                                   NA   \n",
       "1   Life Expectancy: 7-10 years  Barking Level: Barks When Necessary   \n",
       "2                            NA                                   NA   \n",
       "3   Life Expectancy: 8-10 years                 Barking Level: Quiet   \n",
       "4  Life Expectancy: 10-15 years     Barking Level: Likes To Be Vocal   \n",
       "\n",
       "                                             remarks  \n",
       "0  <div class=\"breed-details__main\">\\n<p><strong>...  \n",
       "1                                                     \n",
       "2  <div class=\"breed-details__main\">\\n<p><strong>...  \n",
       "3                                                     \n",
       "4                                                     "
      ]
     },
     "execution_count": 33,
     "metadata": {},
     "output_type": "execute_result"
    }
   ],
   "source": [
    "df.head()"
   ]
  },
  {
   "cell_type": "markdown",
   "metadata": {},
   "source": [
    "### Saving output as csv"
   ]
  },
  {
   "cell_type": "code",
   "execution_count": 34,
   "metadata": {
    "collapsed": true
   },
   "outputs": [],
   "source": [
    "df.to_csv('akcdogs.csv')"
   ]
  }
 ],
 "metadata": {
  "kernelspec": {
   "display_name": "Python 3",
   "language": "python",
   "name": "python3"
  },
  "language_info": {
   "codemirror_mode": {
    "name": "ipython",
    "version": 3
   },
   "file_extension": ".py",
   "mimetype": "text/x-python",
   "name": "python",
   "nbconvert_exporter": "python",
   "pygments_lexer": "ipython3",
   "version": "3.6.3"
  }
 },
 "nbformat": 4,
 "nbformat_minor": 2
}
