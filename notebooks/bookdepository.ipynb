{
 "cells": [
  {
   "cell_type": "code",
   "execution_count": null,
   "metadata": {
    "collapsed": true
   },
   "outputs": [],
   "source": [
    "from urllib.request import Request, urlopen\n",
    "import requests\n",
    "from bs4 import BeautifulSoup\n",
    "import csv"
   ]
  },
  {
   "cell_type": "code",
   "execution_count": null,
   "metadata": {
    "collapsed": true
   },
   "outputs": [],
   "source": [
    "import pandas as pd\n",
    "import numpy as np"
   ]
  },
  {
   "cell_type": "markdown",
   "metadata": {},
   "source": [
    "## 1. Main page\n",
    "### Extracting titles and url of respective single pages"
   ]
  },
  {
   "cell_type": "code",
   "execution_count": null,
   "metadata": {},
   "outputs": [],
   "source": [
    "site = \"http://www.bookdepository.com/bestsellers\"\n",
    "hdr = {'User-Agent': 'Mozilla/5.0'}\n",
    "bookpage = requests.get(site)\n",
    "soup = BeautifulSoup(bookpage.text, \"html.parser\")\n",
    "print(soup.prettify())"
   ]
  },
  {
   "cell_type": "code",
   "execution_count": null,
   "metadata": {},
   "outputs": [],
   "source": [
    "soup.h3"
   ]
  },
  {
   "cell_type": "code",
   "execution_count": null,
   "metadata": {
    "scrolled": true
   },
   "outputs": [],
   "source": [
    "soup.find_all('h3')"
   ]
  },
  {
   "cell_type": "code",
   "execution_count": null,
   "metadata": {},
   "outputs": [],
   "source": [
    "titles = soup.find_all('h3', class_ ='title')\n",
    "titles"
   ]
  },
  {
   "cell_type": "code",
   "execution_count": null,
   "metadata": {},
   "outputs": [],
   "source": [
    "titles[0]"
   ]
  },
  {
   "cell_type": "code",
   "execution_count": null,
   "metadata": {},
   "outputs": [],
   "source": [
    "len(titles)"
   ]
  },
  {
   "cell_type": "code",
   "execution_count": null,
   "metadata": {},
   "outputs": [],
   "source": [
    "titles[0].text.strip()"
   ]
  },
  {
   "cell_type": "code",
   "execution_count": null,
   "metadata": {},
   "outputs": [],
   "source": [
    "titles[0].a['href']"
   ]
  },
  {
   "cell_type": "code",
   "execution_count": null,
   "metadata": {},
   "outputs": [],
   "source": [
    "type(titles)"
   ]
  },
  {
   "cell_type": "code",
   "execution_count": null,
   "metadata": {
    "scrolled": true
   },
   "outputs": [],
   "source": [
    "for i in titles:\n",
    "    print(i.text.strip(), i.a['href'])"
   ]
  },
  {
   "cell_type": "code",
   "execution_count": null,
   "metadata": {
    "collapsed": true
   },
   "outputs": [],
   "source": [
    "title_db = []\n",
    "url_db = []\n",
    "for i in titles:\n",
    "    name = i.text.strip()\n",
    "    url = i.a['href']\n",
    "    title_db.append(name)\n",
    "    url_db.append(url)"
   ]
  },
  {
   "cell_type": "code",
   "execution_count": null,
   "metadata": {},
   "outputs": [],
   "source": [
    "title_db"
   ]
  },
  {
   "cell_type": "code",
   "execution_count": null,
   "metadata": {},
   "outputs": [],
   "source": [
    "len(title_db)"
   ]
  },
  {
   "cell_type": "code",
   "execution_count": null,
   "metadata": {},
   "outputs": [],
   "source": [
    "url_db[0]"
   ]
  },
  {
   "cell_type": "markdown",
   "metadata": {},
   "source": [
    "## 2. Single page\n",
    "### Extracting specific information eg. author, price, bestseller rank, rating etc. about book"
   ]
  },
  {
   "cell_type": "code",
   "execution_count": null,
   "metadata": {},
   "outputs": [],
   "source": [
    "nextsite = \"http://www.bookdepository.com/Subtle-Art-Not-Giving-F-ck-Mark-Manson/9780062457714\"\n",
    "#nextsite = 'http://www.bookdepository.com'+ url_db[0]\n",
    "#nextsite\n",
    "hdr = {'User-Agent': 'Mozilla/5.0'}\n",
    "onemoviepage = requests.get(nextsite)\n",
    "onesoup = BeautifulSoup(onemoviepage.text, \"html.parser\")\n",
    "print(onesoup.prettify())"
   ]
  },
  {
   "cell_type": "code",
   "execution_count": null,
   "metadata": {},
   "outputs": [],
   "source": [
    "j = onesoup.find('ul', class_ = \"biblio-info\")\n",
    "j"
   ]
  },
  {
   "cell_type": "code",
   "execution_count": null,
   "metadata": {},
   "outputs": [],
   "source": [
    "j(\"span\")[6].get_text().strip()"
   ]
  },
  {
   "cell_type": "code",
   "execution_count": null,
   "metadata": {
    "scrolled": true
   },
   "outputs": [],
   "source": [
    "b = onesoup.find('ol', class_ = \"breadcrumb\")\n",
    "b"
   ]
  },
  {
   "cell_type": "code",
   "execution_count": null,
   "metadata": {},
   "outputs": [],
   "source": [
    "b(\"a\")[0].get_text().strip()"
   ]
  },
  {
   "cell_type": "code",
   "execution_count": null,
   "metadata": {},
   "outputs": [],
   "source": [
    "b(\"a\")[1].get_text().strip()"
   ]
  },
  {
   "cell_type": "code",
   "execution_count": null,
   "metadata": {
    "scrolled": false
   },
   "outputs": [],
   "source": [
    "onesoup.find('ul', class_ = \"meta-info hidden-md\").get_text()"
   ]
  },
  {
   "cell_type": "code",
   "execution_count": null,
   "metadata": {},
   "outputs": [],
   "source": [
    "onesoup.find('div', class_ = \"author-info hidden-md\").get_text()"
   ]
  },
  {
   "cell_type": "code",
   "execution_count": null,
   "metadata": {},
   "outputs": [],
   "source": [
    "onesoup.find_all(\"span\")"
   ]
  },
  {
   "cell_type": "code",
   "execution_count": null,
   "metadata": {},
   "outputs": [],
   "source": [
    "onesoup.find_all(\"span\")[24].get_text()"
   ]
  },
  {
   "cell_type": "code",
   "execution_count": null,
   "metadata": {},
   "outputs": [],
   "source": [
    "onesoup.find_all(\"span\")[28].get_text()"
   ]
  },
  {
   "cell_type": "code",
   "execution_count": null,
   "metadata": {
    "scrolled": true
   },
   "outputs": [],
   "source": [
    "onesoup.find(itemprop=\"ratingValue\").get_text()"
   ]
  },
  {
   "cell_type": "code",
   "execution_count": null,
   "metadata": {
    "scrolled": true
   },
   "outputs": [],
   "source": [
    "onesoup.find(\"span\", class_=\"rating-count\").get_text()"
   ]
  },
  {
   "cell_type": "code",
   "execution_count": null,
   "metadata": {},
   "outputs": [],
   "source": [
    "onesoup.find(\"span\", class_=\"sale-price\").get_text()"
   ]
  },
  {
   "cell_type": "code",
   "execution_count": null,
   "metadata": {},
   "outputs": [],
   "source": [
    "onesoup.find(\"span\", class_=\"list-price\").get_text()"
   ]
  },
  {
   "cell_type": "code",
   "execution_count": null,
   "metadata": {},
   "outputs": [],
   "source": [
    "onesoup.find(itemprop=\"numberOfPages\").get_text()"
   ]
  },
  {
   "cell_type": "code",
   "execution_count": null,
   "metadata": {},
   "outputs": [],
   "source": [
    "onesoup.find(itemprop=\"datePublished\").get_text()"
   ]
  },
  {
   "cell_type": "code",
   "execution_count": null,
   "metadata": {},
   "outputs": [],
   "source": [
    "onesoup.find(itemprop=\"isbn\").get_text()"
   ]
  },
  {
   "cell_type": "markdown",
   "metadata": {},
   "source": [
    "### 2.1 Another single page\n",
    "#### Choose any other single book page to check if biblio-info structure is always consistent across all single book pages (answer: it's not) "
   ]
  },
  {
   "cell_type": "code",
   "execution_count": null,
   "metadata": {
    "collapsed": true
   },
   "outputs": [],
   "source": [
    "nextsite = \"https://www.bookdepository.com/Thinking-Fast-Slow-Daniel-Kahneman/9780141033570\"\n",
    "#nextsite = url_db[0]\n",
    "hdr = {'User-Agent': 'Mozilla/5.0'}\n",
    "onemoviepage = requests.get(nextsite)\n",
    "onesoup = BeautifulSoup(onemoviepage.text, \"html.parser\")"
   ]
  },
  {
   "cell_type": "code",
   "execution_count": null,
   "metadata": {
    "collapsed": true
   },
   "outputs": [],
   "source": [
    "s = onesoup.find('ul', class_ = \"biblio-info\")"
   ]
  },
  {
   "cell_type": "code",
   "execution_count": null,
   "metadata": {
    "scrolled": true
   },
   "outputs": [],
   "source": [
    "type(s)"
   ]
  },
  {
   "cell_type": "code",
   "execution_count": null,
   "metadata": {},
   "outputs": [],
   "source": [
    "last_row = s(\"span\")[-1].get_text().strip()\n",
    "last_row"
   ]
  },
  {
   "cell_type": "code",
   "execution_count": null,
   "metadata": {},
   "outputs": [],
   "source": [
    "country = s(\"span\")[6].get_text().strip()\n",
    "country"
   ]
  },
  {
   "cell_type": "code",
   "execution_count": null,
   "metadata": {},
   "outputs": [],
   "source": [
    "onesoup.find('ul', class_ = \"meta-info hidden-md\").get_text().strip()"
   ]
  },
  {
   "cell_type": "code",
   "execution_count": null,
   "metadata": {},
   "outputs": [],
   "source": [
    "onesoup.find('div', class_ = \"author-info hidden-md\").get_text().strip()"
   ]
  },
  {
   "cell_type": "code",
   "execution_count": null,
   "metadata": {},
   "outputs": [],
   "source": [
    "onesoup.find_all(\"span\")[24:30]"
   ]
  },
  {
   "cell_type": "code",
   "execution_count": null,
   "metadata": {},
   "outputs": [],
   "source": [
    "onesoup.find(\"span\", class_= \"star full-star\").parent"
   ]
  },
  {
   "cell_type": "code",
   "execution_count": null,
   "metadata": {},
   "outputs": [],
   "source": [
    "onesoup.find(itemprop=\"ratingValue\").get_text().strip()"
   ]
  },
  {
   "cell_type": "code",
   "execution_count": null,
   "metadata": {},
   "outputs": [],
   "source": [
    "onesoup.find(\"span\", class_=\"rating-count\").get_text().strip()"
   ]
  },
  {
   "cell_type": "code",
   "execution_count": null,
   "metadata": {},
   "outputs": [],
   "source": [
    "onesoup.find(\"span\", class_=\"sale-price\").get_text()"
   ]
  },
  {
   "cell_type": "code",
   "execution_count": null,
   "metadata": {},
   "outputs": [],
   "source": [
    "onesoup.find(\"span\", class_=\"list-price\").get_text()"
   ]
  },
  {
   "cell_type": "code",
   "execution_count": null,
   "metadata": {},
   "outputs": [],
   "source": [
    "onesoup.find(itemprop=\"numberOfPages\").get_text()"
   ]
  },
  {
   "cell_type": "code",
   "execution_count": null,
   "metadata": {},
   "outputs": [],
   "source": [
    "onesoup.find(itemprop=\"datePublished\").get_text()"
   ]
  },
  {
   "cell_type": "code",
   "execution_count": null,
   "metadata": {},
   "outputs": [],
   "source": [
    "onesoup.find(itemprop=\"isbn\").get_text()"
   ]
  },
  {
   "cell_type": "markdown",
   "metadata": {},
   "source": [
    "## 3. Putting everything together\n",
    "#### In the event of a disconnection, re-run the code below for sites not yet crawled by updating the sitelist below"
   ]
  },
  {
   "cell_type": "code",
   "execution_count": null,
   "metadata": {},
   "outputs": [],
   "source": [
    "sitelist = ['https://www.bookdepository.com/bestsellers?page='+str(i) for i in range(0,35)]\n",
    "sitelist[0] = 'http://www.bookdepository.com/bestsellers'\n",
    "#sitelist = ['https://www.bookdepository.com/bestsellers?page='+str(i) for i in range(15,35)]\n",
    "sitelist"
   ]
  },
  {
   "cell_type": "code",
   "execution_count": null,
   "metadata": {
    "scrolled": true
   },
   "outputs": [],
   "source": [
    "sitelist[1]"
   ]
  },
  {
   "cell_type": "code",
   "execution_count": null,
   "metadata": {
    "collapsed": true
   },
   "outputs": [],
   "source": [
    "import time"
   ]
  },
  {
   "cell_type": "code",
   "execution_count": null,
   "metadata": {},
   "outputs": [],
   "source": [
    "data = []\n",
    "count = 0\n",
    "for site in sitelist:\n",
    "    hdr = {'User-Agent': 'Mozilla/5.0'}\n",
    "    bookpage = requests.get(site)\n",
    "    soup = BeautifulSoup(bookpage.text, \"html.parser\")\n",
    "    #print(soup.prettify())\n",
    "    titles = soup.find_all('h3', class_ ='title')\n",
    "    count +=1\n",
    "    for i in titles: \n",
    "        name = i.text.strip()\n",
    "        nextsite = 'http://www.bookdepository.com' + i.a['href']\n",
    "        hdr = {'User-Agent': 'Mozilla/5.0'}\n",
    "        onebookpage = requests.get(nextsite)\n",
    "        onesoup = BeautifulSoup(onebookpage.text, \"html.parser\")\n",
    "        #print(onesoup.prettify())\n",
    "        try:\n",
    "            material = onesoup.find('ul', class_ = \"meta-info hidden-md\").get_text().strip()\n",
    "        except: \n",
    "            material = \"NA\"\n",
    "        try:\n",
    "            author = onesoup.find('div', class_ = \"author-info hidden-md\").get_text().strip()\n",
    "        except:\n",
    "            author = \"NA\"\n",
    "        s = onesoup.find('ul', class_ = \"biblio-info\")\n",
    "        rank = s(\"span\")[-1].get_text().strip()\n",
    "        b = onesoup.find('ol', class_ = \"breadcrumb\")\n",
    "        try:\n",
    "            maincat = b(\"a\")[0].get_text().strip()\n",
    "        except:\n",
    "            maincat = \"NA\"\n",
    "        try:\n",
    "            subcat = b(\"a\")[1].get_text().strip()\n",
    "        except:\n",
    "            subcat = \"NA\"\n",
    "        try:\n",
    "            rating = onesoup.find(itemprop=\"ratingValue\").get_text().strip()\n",
    "        except:\n",
    "            rating = \"NA\"\n",
    "        try:\n",
    "            ratingcount = onesoup.find(\"span\", class_=\"rating-count\").get_text().strip()\n",
    "        except:\n",
    "            ratingcount = \"NA\"\n",
    "        try: \n",
    "            saleprice = onesoup.find(\"span\", class_=\"sale-price\").get_text()\n",
    "        except:\n",
    "            saleprice = \"NA\"\n",
    "        try:\n",
    "            listprice = onesoup.find(\"span\", class_=\"list-price\").get_text()\n",
    "        except:\n",
    "            listprice = \"NA\"\n",
    "        try:\n",
    "            numofpages = onesoup.find(itemprop=\"numberOfPages\").get_text()\n",
    "        except:\n",
    "            numofpages = \"NA\"\n",
    "        try:\n",
    "            datepub = onesoup.find(itemprop=\"datePublished\").get_text()\n",
    "        except:\n",
    "            datepub = \"NA\"\n",
    "        try:\n",
    "            isbn13 = onesoup.find(itemprop=\"isbn\").get_text()\n",
    "        except:\n",
    "            isbn13 = \"NA\"\n",
    "        data.append((name,material,author,rank,maincat,subcat,rating,ratingcount,saleprice,\n",
    "                    listprice,numofpages,datepub,isbn13))    \n",
    "    print(count)\n",
    "    time.sleep(1)"
   ]
  },
  {
   "cell_type": "code",
   "execution_count": null,
   "metadata": {
    "scrolled": true
   },
   "outputs": [],
   "source": [
    "len(data)"
   ]
  },
  {
   "cell_type": "code",
   "execution_count": null,
   "metadata": {
    "collapsed": true
   },
   "outputs": [],
   "source": [
    "df = pd.DataFrame(np.array(data))"
   ]
  },
  {
   "cell_type": "code",
   "execution_count": null,
   "metadata": {
    "collapsed": true
   },
   "outputs": [],
   "source": [
    "df.columns = ['name','material','author','rank','maincat','subcat','rating','ratingcount','saleprice',\n",
    "                    'listprice','numofpages','datepub','isbn13']"
   ]
  },
  {
   "cell_type": "code",
   "execution_count": null,
   "metadata": {},
   "outputs": [],
   "source": [
    "df.head()"
   ]
  },
  {
   "cell_type": "code",
   "execution_count": null,
   "metadata": {
    "collapsed": true
   },
   "outputs": [],
   "source": [
    "df.to_csv('bookdepo.csv')\n",
    "#df.to_csv('bookdepo1.csv')"
   ]
  },
  {
   "cell_type": "markdown",
   "metadata": {},
   "source": [
    "#### Resources: \n",
    "http://altitudelabs.com/blog/web-scraping-with-python-and-beautiful-soup/\n",
    "http://web.stanford.edu/~zlotnick/TextAsData/Web_Scraping_with_Beautiful_Soup.html  \n",
    "https://www.crummy.com/software/BeautifulSoup/bs4/doc/  \n",
    "https://www.dataquest.io/blog/web-scraping-beautifulsoup/"
   ]
  }
 ],
 "metadata": {
  "kernelspec": {
   "display_name": "Python 3",
   "language": "python",
   "name": "python3"
  },
  "language_info": {
   "codemirror_mode": {
    "name": "ipython",
    "version": 3
   },
   "file_extension": ".py",
   "mimetype": "text/x-python",
   "name": "python",
   "nbconvert_exporter": "python",
   "pygments_lexer": "ipython3",
   "version": "3.6.3"
  }
 },
 "nbformat": 4,
 "nbformat_minor": 2
}
